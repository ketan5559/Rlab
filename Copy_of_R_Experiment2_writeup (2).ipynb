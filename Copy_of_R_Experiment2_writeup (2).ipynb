{
  "nbformat": 4,
  "nbformat_minor": 0,
  "metadata": {
    "colab": {
      "name": "Copy_of_R_Experiment2_writeup.ipynb",
      "provenance": [],
      "collapsed_sections": []
    },
    "kernelspec": {
      "name": "ir",
      "display_name": "R"
    }
  },
  "cells": [
    {
      "cell_type": "markdown",
      "metadata": {
        "id": "ID8ytqkhyQUI"
      },
      "source": [
        "\n",
        "**Vectors R Programming**\n",
        "\n",
        "The simplest and most common data structure in R is the vector. Vectors come in two different flavors: atomic vectors and lists. An atomic vector contains exactly one data type, whereas a list may contain multiple data types.\n",
        "\n",
        "Atomic vectors include logical, character, integer, and complex. Logical vectors can contain the values TRUE, FALSE, and NA (for 'not available').These values are generated as the result of logical 'conditions'.\n",
        "\n",
        "Complet following couple of code cell to genearate a logical vector in variable logic_vect\n"
      ]
    },
    {
      "cell_type": "code",
      "metadata": {
        "id": "vmxkWCwVaTsu",
        "colab": {
          "base_uri": "https://localhost:8080/",
          "height": 35
        },
        "outputId": "b5e36c3a-e30c-4583-f778-1f1f903c148b"
      },
      "source": [
        "# Create a vector num_vect with values -100, 0.55, 45, 5466\n",
        "num_vect<-c(-100,0.55,45,5466)\n",
        "num_vect"
      ],
      "execution_count": 1,
      "outputs": [
        {
          "output_type": "display_data",
          "data": {
            "text/plain": [
              "[1] -100.00    0.55   45.00 5466.00"
            ],
            "text/latex": "\\begin{enumerate*}\n\\item -100\n\\item 0.55\n\\item 45\n\\item 5466\n\\end{enumerate*}\n",
            "text/markdown": "1. -100\n2. 0.55\n3. 45\n4. 5466\n\n\n",
            "text/html": [
              "<style>\n",
              ".list-inline {list-style: none; margin:0; padding: 0}\n",
              ".list-inline>li {display: inline-block}\n",
              ".list-inline>li:not(:last-child)::after {content: \"\\00b7\"; padding: 0 .5ex}\n",
              "</style>\n",
              "<ol class=list-inline><li>-100</li><li>0.55</li><li>45</li><li>5466</li></ol>\n"
            ]
          },
          "metadata": {
            "tags": []
          }
        }
      ]
    },
    {
      "cell_type": "code",
      "metadata": {
        "id": "eB193NZhaTxX"
      },
      "source": [
        "#Now, create a variable called logic_vect that gets the result of num_vect <= 0.55, which is read as 'num_vect is less than 0.55'.\n",
        "logic_vect <- num_vect <= 0.55\n"
      ],
      "execution_count": 2,
      "outputs": []
    },
    {
      "cell_type": "markdown",
      "metadata": {
        "id": "Wjk_ipkRbIEQ"
      },
      "source": [
        "If you print logic_vect. you will see that is is a logical vector with 4 values. Print logic_vect in cell below to verify it "
      ]
    },
    {
      "cell_type": "code",
      "metadata": {
        "id": "daPof3CfbYJl",
        "colab": {
          "base_uri": "https://localhost:8080/",
          "height": 35
        },
        "outputId": "27cd5bcd-4b13-4c46-a2f2-182240ecb55f"
      },
      "source": [
        "#print logic_vect\r\n",
        "logic_vect"
      ],
      "execution_count": 3,
      "outputs": [
        {
          "output_type": "display_data",
          "data": {
            "text/plain": [
              "[1]  TRUE  TRUE FALSE FALSE"
            ],
            "text/latex": "\\begin{enumerate*}\n\\item TRUE\n\\item TRUE\n\\item FALSE\n\\item FALSE\n\\end{enumerate*}\n",
            "text/markdown": "1. TRUE\n2. TRUE\n3. FALSE\n4. FALSE\n\n\n",
            "text/html": [
              "<style>\n",
              ".list-inline {list-style: none; margin:0; padding: 0}\n",
              ".list-inline>li {display: inline-block}\n",
              ".list-inline>li:not(:last-child)::after {content: \"\\00b7\"; padding: 0 .5ex}\n",
              "</style>\n",
              "<ol class=list-inline><li>TRUE</li><li>TRUE</li><li>FALSE</li><li>FALSE</li></ol>\n"
            ]
          },
          "metadata": {
            "tags": []
          }
        }
      ]
    },
    {
      "cell_type": "code",
      "metadata": {
        "id": "ZJRGCFsRbluA",
        "colab": {
          "base_uri": "https://localhost:8080/",
          "height": 35
        },
        "outputId": "29fa050e-45a2-48c0-fd3c-32f3a921168f"
      },
      "source": [
        "#Type num_vect >= 6 and note the output\r\n",
        "num_vect >= 6"
      ],
      "execution_count": 4,
      "outputs": [
        {
          "output_type": "display_data",
          "data": {
            "text/plain": [
              "[1] FALSE FALSE  TRUE  TRUE"
            ],
            "text/latex": "\\begin{enumerate*}\n\\item FALSE\n\\item FALSE\n\\item TRUE\n\\item TRUE\n\\end{enumerate*}\n",
            "text/markdown": "1. FALSE\n2. FALSE\n3. TRUE\n4. TRUE\n\n\n",
            "text/html": [
              "<style>\n",
              ".list-inline {list-style: none; margin:0; padding: 0}\n",
              ".list-inline>li {display: inline-block}\n",
              ".list-inline>li:not(:last-child)::after {content: \"\\00b7\"; padding: 0 .5ex}\n",
              "</style>\n",
              "<ol class=list-inline><li>FALSE</li><li>FALSE</li><li>TRUE</li><li>TRUE</li></ol>\n"
            ]
          },
          "metadata": {
            "tags": []
          }
        }
      ]
    },
    {
      "cell_type": "markdown",
      "metadata": {
        "id": "ykWXOe7kbbCH"
      },
      "source": [
        "Character vectors\n",
        "\n",
        "Character vectors are also very common in R. Double quotes are used to distinguish character objects."
      ]
    },
    {
      "cell_type": "code",
      "metadata": {
        "id": "Y5By5YrKcKLV"
      },
      "source": [
        "# Create a character vector that contains the following words: \"My\", \"name\", \"is\". \n",
        "#Remember to enclose each word in its own set of double quotes, \n",
        "#so that R knows they are character strings. Store the vector in a variable called char_vect.\n",
        "\n",
        "char_vect <- c(\"My\", \"name\", \"is\")\n"
      ],
      "execution_count": 5,
      "outputs": []
    },
    {
      "cell_type": "code",
      "metadata": {
        "id": "fCs9xH65dXqF",
        "colab": {
          "base_uri": "https://localhost:8080/",
          "height": 35
        },
        "outputId": "81a0c369-897d-4b9a-bdd5-4797034d49a7"
      },
      "source": [
        "# print the char_vect\r\n",
        "char_vect"
      ],
      "execution_count": 6,
      "outputs": [
        {
          "output_type": "display_data",
          "data": {
            "text/plain": [
              "[1] \"My\"   \"name\" \"is\"  "
            ],
            "text/latex": "\\begin{enumerate*}\n\\item 'My'\n\\item 'name'\n\\item 'is'\n\\end{enumerate*}\n",
            "text/markdown": "1. 'My'\n2. 'name'\n3. 'is'\n\n\n",
            "text/html": [
              "<style>\n",
              ".list-inline {list-style: none; margin:0; padding: 0}\n",
              ".list-inline>li {display: inline-block}\n",
              ".list-inline>li:not(:last-child)::after {content: \"\\00b7\"; padding: 0 .5ex}\n",
              "</style>\n",
              "<ol class=list-inline><li>'My'</li><li>'name'</li><li>'is'</li></ol>\n"
            ]
          },
          "metadata": {
            "tags": []
          }
        }
      ]
    },
    {
      "cell_type": "code",
      "metadata": {
        "id": "wqFk1eWDdaej",
        "colab": {
          "base_uri": "https://localhost:8080/",
          "height": 35
        },
        "outputId": "eab45fdb-4931-426f-97e9-c1307da3f123"
      },
      "source": [
        "#use paste(char_vect, collapse=\" \")\n",
        "paste(char_vect,collapse=\" \")\n"
      ],
      "execution_count": 7,
      "outputs": [
        {
          "output_type": "display_data",
          "data": {
            "text/plain": [
              "[1] \"My name is\""
            ],
            "text/latex": "'My name is'",
            "text/markdown": "'My name is'",
            "text/html": [
              "'My name is'"
            ]
          },
          "metadata": {
            "tags": []
          }
        }
      ]
    },
    {
      "cell_type": "markdown",
      "metadata": {
        "id": "U6zErBTNdkjS"
      },
      "source": [
        "Explain What difference you see in above two code blocks\n",
        "\n",
        " In the first block, char_vect is a character vector with length 3. In the second block, elements of the char_vect are joined together in one continuous character string using paste() function. now in the second box char_vect is a character vector with length 1."
      ]
    },
    {
      "cell_type": "code",
      "metadata": {
        "id": "bb8VxwW6eq4I",
        "colab": {
          "base_uri": "https://localhost:8080/",
          "height": 35
        },
        "outputId": "7398583f-10fa-4d1c-e700-f9f0378d2dd1"
      },
      "source": [
        "# add your name as an element to char_vect and paste complete sentence saying \"My name is <your name>\"\n",
        "char_vect <- c(char_vect,\"Ketan\")\n",
        "paste(char_vect, collapse = \" \")"
      ],
      "execution_count": 8,
      "outputs": [
        {
          "output_type": "display_data",
          "data": {
            "text/plain": [
              "[1] \"My name is Ketan\""
            ],
            "text/latex": "'My name is Ketan'",
            "text/markdown": "'My name is Ketan'",
            "text/html": [
              "'My name is Ketan'"
            ]
          },
          "metadata": {
            "tags": []
          }
        }
      ]
    },
    {
      "cell_type": "code",
      "metadata": {
        "id": "2On4I2KFffCo",
        "colab": {
          "base_uri": "https://localhost:8080/",
          "height": 35
        },
        "outputId": "4ea88582-33d3-48b5-c0ec-fc9d27c8459c"
      },
      "source": [
        "#Execute this code block\n",
        "paste(\"Hello\",\"World!\",collapse=\" \")"
      ],
      "execution_count": 9,
      "outputs": [
        {
          "output_type": "display_data",
          "data": {
            "text/plain": [
              "[1] \"Hello World!\""
            ],
            "text/latex": "'Hello World!'",
            "text/markdown": "'Hello World!'",
            "text/html": [
              "'Hello World!'"
            ]
          },
          "metadata": {
            "tags": []
          }
        }
      ]
    },
    {
      "cell_type": "markdown",
      "metadata": {
        "id": "Ix0RGNhYfk5M"
      },
      "source": [
        "Explaination: collapse argument with function paste explains that we can join elements of the chaarctor vector seperated by single spaces."
      ]
    },
    {
      "cell_type": "code",
      "metadata": {
        "id": "UG8NGPx4fq01",
        "colab": {
          "base_uri": "https://localhost:8080/",
          "height": 35
        },
        "outputId": "d89bc900-7aad-45d1-be0d-b3c6f4fa0e09"
      },
      "source": [
        "#Execute this \n",
        "paste(1:3, c(\"X\", \"Y\", \"Z\"), sep = \":\")"
      ],
      "execution_count": 10,
      "outputs": [
        {
          "output_type": "display_data",
          "data": {
            "text/plain": [
              "[1] \"1:X\" \"2:Y\" \"3:Z\""
            ],
            "text/latex": "\\begin{enumerate*}\n\\item '1:X'\n\\item '2:Y'\n\\item '3:Z'\n\\end{enumerate*}\n",
            "text/markdown": "1. '1:X'\n2. '2:Y'\n3. '3:Z'\n\n\n",
            "text/html": [
              "<style>\n",
              ".list-inline {list-style: none; margin:0; padding: 0}\n",
              ".list-inline>li {display: inline-block}\n",
              ".list-inline>li:not(:last-child)::after {content: \"\\00b7\"; padding: 0 .5ex}\n",
              "</style>\n",
              "<ol class=list-inline><li>'1:X'</li><li>'2:Y'</li><li>'3:Z'</li></ol>\n"
            ]
          },
          "metadata": {
            "tags": []
          }
        }
      ]
    },
    {
      "cell_type": "markdown",
      "metadata": {
        "id": "VwpVLBj8qvPs"
      },
      "source": [
        "\r\n",
        "Explain output of above code block \r\n",
        "\r\n",
        "Ans: 2 vectors, both of size 3. First has elements (1,2,3) and second (\"X\",\"Y\",\"Z\"). When paste() is used it prints elements of both with iteration. sep=\":\" seperates both values with \":\"."
      ]
    },
    {
      "cell_type": "code",
      "metadata": {
        "id": "dfigEt5CgidD",
        "colab": {
          "base_uri": "https://localhost:8080/",
          "height": 35
        },
        "outputId": "f2ca3fb6-9372-418f-e71c-53bf6a45a4f5"
      },
      "source": [
        "#Executes this LETTERS is \n",
        "paste(LETTERS, 1:10, sep = \"-\")"
      ],
      "execution_count": 11,
      "outputs": [
        {
          "output_type": "display_data",
          "data": {
            "text/plain": [
              " [1] \"A-1\"  \"B-2\"  \"C-3\"  \"D-4\"  \"E-5\"  \"F-6\"  \"G-7\"  \"H-8\"  \"I-9\"  \"J-10\"\n",
              "[11] \"K-1\"  \"L-2\"  \"M-3\"  \"N-4\"  \"O-5\"  \"P-6\"  \"Q-7\"  \"R-8\"  \"S-9\"  \"T-10\"\n",
              "[21] \"U-1\"  \"V-2\"  \"W-3\"  \"X-4\"  \"Y-5\"  \"Z-6\" "
            ],
            "text/latex": "\\begin{enumerate*}\n\\item 'A-1'\n\\item 'B-2'\n\\item 'C-3'\n\\item 'D-4'\n\\item 'E-5'\n\\item 'F-6'\n\\item 'G-7'\n\\item 'H-8'\n\\item 'I-9'\n\\item 'J-10'\n\\item 'K-1'\n\\item 'L-2'\n\\item 'M-3'\n\\item 'N-4'\n\\item 'O-5'\n\\item 'P-6'\n\\item 'Q-7'\n\\item 'R-8'\n\\item 'S-9'\n\\item 'T-10'\n\\item 'U-1'\n\\item 'V-2'\n\\item 'W-3'\n\\item 'X-4'\n\\item 'Y-5'\n\\item 'Z-6'\n\\end{enumerate*}\n",
            "text/markdown": "1. 'A-1'\n2. 'B-2'\n3. 'C-3'\n4. 'D-4'\n5. 'E-5'\n6. 'F-6'\n7. 'G-7'\n8. 'H-8'\n9. 'I-9'\n10. 'J-10'\n11. 'K-1'\n12. 'L-2'\n13. 'M-3'\n14. 'N-4'\n15. 'O-5'\n16. 'P-6'\n17. 'Q-7'\n18. 'R-8'\n19. 'S-9'\n20. 'T-10'\n21. 'U-1'\n22. 'V-2'\n23. 'W-3'\n24. 'X-4'\n25. 'Y-5'\n26. 'Z-6'\n\n\n",
            "text/html": [
              "<style>\n",
              ".list-inline {list-style: none; margin:0; padding: 0}\n",
              ".list-inline>li {display: inline-block}\n",
              ".list-inline>li:not(:last-child)::after {content: \"\\00b7\"; padding: 0 .5ex}\n",
              "</style>\n",
              "<ol class=list-inline><li>'A-1'</li><li>'B-2'</li><li>'C-3'</li><li>'D-4'</li><li>'E-5'</li><li>'F-6'</li><li>'G-7'</li><li>'H-8'</li><li>'I-9'</li><li>'J-10'</li><li>'K-1'</li><li>'L-2'</li><li>'M-3'</li><li>'N-4'</li><li>'O-5'</li><li>'P-6'</li><li>'Q-7'</li><li>'R-8'</li><li>'S-9'</li><li>'T-10'</li><li>'U-1'</li><li>'V-2'</li><li>'W-3'</li><li>'X-4'</li><li>'Y-5'</li><li>'Z-6'</li></ol>\n"
            ]
          },
          "metadata": {
            "tags": []
          }
        }
      ]
    },
    {
      "cell_type": "markdown",
      "metadata": {
        "id": "A_IqnCE6rHer"
      },
      "source": [
        "Explain output of above code block\r\n",
        "\r\n",
        "Explaination: here, charactor vector LETTERS is longer than numeric vector 1:10. so R simply repeats the 1:10 until it matches length of the charactor vector."
      ]
    },
    {
      "cell_type": "markdown",
      "metadata": {
        "id": "oaWD-k-4qNOV"
      },
      "source": [
        "**Write R code to Solve Following**\n",
        "1.   To begin with create a vecor **a** of 20 random values from Std Normal Variable.\n",
        "2.   Creat another vector **b** of 20 NA values. Also create vector x\n",
        "3.   Sample 20 values from above two vectors. \n",
        "4.   Subset  10th to 15th element from x to generate sample y\n",
        "5.   Count NAs in vector x and y         "
      ]
    },
    {
      "cell_type": "markdown",
      "metadata": {
        "id": "PXtnX3pV7xmy"
      },
      "source": [
        "1. To begin with create a vecor a of 20 random values from Std Normal Variable."
      ]
    },
    {
      "cell_type": "code",
      "metadata": {
        "colab": {
          "base_uri": "https://localhost:8080/",
          "height": 69
        },
        "id": "AZtQlkUK8JnX",
        "outputId": "37015de3-80b7-48a2-8711-2025dec69552"
      },
      "source": [
        "a <- rnorm(20)\r\n",
        "a"
      ],
      "execution_count": 12,
      "outputs": [
        {
          "output_type": "display_data",
          "data": {
            "text/plain": [
              " [1]  0.17690650  0.31824605  0.72344896  1.13701785  0.38374871 -0.31425293\n",
              " [7]  0.71292513 -0.25282432 -0.78852873  1.02188644 -2.28098115 -1.14371955\n",
              "[13] -0.15270700  2.25331513  0.16440379  0.02299052  0.08708565  1.53635702\n",
              "[19]  0.24437541  0.06826424"
            ],
            "text/latex": "\\begin{enumerate*}\n\\item 0.176906502283513\n\\item 0.318246051135548\n\\item 0.723448955347201\n\\item 1.13701784769401\n\\item 0.383748714213111\n\\item -0.314252929982843\n\\item 0.712925127383518\n\\item -0.25282431548265\n\\item -0.788528730396125\n\\item 1.02188643505529\n\\item -2.28098114625868\n\\item -1.14371955293667\n\\item -0.152706995410987\n\\item 2.25331512659515\n\\item 0.164403791814389\n\\item 0.0229905176448017\n\\item 0.08708565380223\n\\item 1.53635701892346\n\\item 0.244375411813164\n\\item 0.0682642375460315\n\\end{enumerate*}\n",
            "text/markdown": "1. 0.176906502283513\n2. 0.318246051135548\n3. 0.723448955347201\n4. 1.13701784769401\n5. 0.383748714213111\n6. -0.314252929982843\n7. 0.712925127383518\n8. -0.25282431548265\n9. -0.788528730396125\n10. 1.02188643505529\n11. -2.28098114625868\n12. -1.14371955293667\n13. -0.152706995410987\n14. 2.25331512659515\n15. 0.164403791814389\n16. 0.0229905176448017\n17. 0.08708565380223\n18. 1.53635701892346\n19. 0.244375411813164\n20. 0.0682642375460315\n\n\n",
            "text/html": [
              "<style>\n",
              ".list-inline {list-style: none; margin:0; padding: 0}\n",
              ".list-inline>li {display: inline-block}\n",
              ".list-inline>li:not(:last-child)::after {content: \"\\00b7\"; padding: 0 .5ex}\n",
              "</style>\n",
              "<ol class=list-inline><li>0.176906502283513</li><li>0.318246051135548</li><li>0.723448955347201</li><li>1.13701784769401</li><li>0.383748714213111</li><li>-0.314252929982843</li><li>0.712925127383518</li><li>-0.25282431548265</li><li>-0.788528730396125</li><li>1.02188643505529</li><li>-2.28098114625868</li><li>-1.14371955293667</li><li>-0.152706995410987</li><li>2.25331512659515</li><li>0.164403791814389</li><li>0.0229905176448017</li><li>0.08708565380223</li><li>1.53635701892346</li><li>0.244375411813164</li><li>0.0682642375460315</li></ol>\n"
            ]
          },
          "metadata": {
            "tags": []
          }
        }
      ]
    },
    {
      "cell_type": "markdown",
      "metadata": {
        "id": "5rxVNCEB8AWG"
      },
      "source": [
        "2. Creat another vector b of 20 NA values. Also create vector x"
      ]
    },
    {
      "cell_type": "code",
      "metadata": {
        "colab": {
          "base_uri": "https://localhost:8080/",
          "height": 35
        },
        "id": "Qu9QUqwV8h4H",
        "outputId": "05c58539-bdbb-4456-c8b1-efb1d0d6344d"
      },
      "source": [
        "b <- rep(NA, 20)\r\n",
        " b"
      ],
      "execution_count": 13,
      "outputs": [
        {
          "output_type": "display_data",
          "data": {
            "text/plain": [
              " [1] NA NA NA NA NA NA NA NA NA NA NA NA NA NA NA NA NA NA NA NA"
            ],
            "text/latex": "\\begin{enumerate*}\n\\item <NA>\n\\item <NA>\n\\item <NA>\n\\item <NA>\n\\item <NA>\n\\item <NA>\n\\item <NA>\n\\item <NA>\n\\item <NA>\n\\item <NA>\n\\item <NA>\n\\item <NA>\n\\item <NA>\n\\item <NA>\n\\item <NA>\n\\item <NA>\n\\item <NA>\n\\item <NA>\n\\item <NA>\n\\item <NA>\n\\end{enumerate*}\n",
            "text/markdown": "1. &lt;NA&gt;\n2. &lt;NA&gt;\n3. &lt;NA&gt;\n4. &lt;NA&gt;\n5. &lt;NA&gt;\n6. &lt;NA&gt;\n7. &lt;NA&gt;\n8. &lt;NA&gt;\n9. &lt;NA&gt;\n10. &lt;NA&gt;\n11. &lt;NA&gt;\n12. &lt;NA&gt;\n13. &lt;NA&gt;\n14. &lt;NA&gt;\n15. &lt;NA&gt;\n16. &lt;NA&gt;\n17. &lt;NA&gt;\n18. &lt;NA&gt;\n19. &lt;NA&gt;\n20. &lt;NA&gt;\n\n\n",
            "text/html": [
              "<style>\n",
              ".list-inline {list-style: none; margin:0; padding: 0}\n",
              ".list-inline>li {display: inline-block}\n",
              ".list-inline>li:not(:last-child)::after {content: \"\\00b7\"; padding: 0 .5ex}\n",
              "</style>\n",
              "<ol class=list-inline><li>&lt;NA&gt;</li><li>&lt;NA&gt;</li><li>&lt;NA&gt;</li><li>&lt;NA&gt;</li><li>&lt;NA&gt;</li><li>&lt;NA&gt;</li><li>&lt;NA&gt;</li><li>&lt;NA&gt;</li><li>&lt;NA&gt;</li><li>&lt;NA&gt;</li><li>&lt;NA&gt;</li><li>&lt;NA&gt;</li><li>&lt;NA&gt;</li><li>&lt;NA&gt;</li><li>&lt;NA&gt;</li><li>&lt;NA&gt;</li><li>&lt;NA&gt;</li><li>&lt;NA&gt;</li><li>&lt;NA&gt;</li><li>&lt;NA&gt;</li></ol>\n"
            ]
          },
          "metadata": {
            "tags": []
          }
        }
      ]
    },
    {
      "cell_type": "markdown",
      "metadata": {
        "id": "YyrpvlH-9Fdb"
      },
      "source": [
        "3. Sample 20 values from above two vectors."
      ]
    },
    {
      "cell_type": "code",
      "metadata": {
        "colab": {
          "base_uri": "https://localhost:8080/",
          "height": 52
        },
        "id": "f2IltcXo8rQL",
        "outputId": "9f7930b2-5966-490c-cc6e-9e115c8c834f"
      },
      "source": [
        "x <- c(a,b)\r\n",
        "\r\n",
        "x <- sample(x, 20 , replace= FALSE)\r\n",
        "x"
      ],
      "execution_count": 14,
      "outputs": [
        {
          "output_type": "display_data",
          "data": {
            "text/plain": [
              " [1]         NA         NA -1.1437196         NA  0.3837487         NA\n",
              " [7] -2.2809811 -0.1527070  0.1644038         NA  2.2533151         NA\n",
              "[13] -0.3142529  0.1769065  0.7234490  0.2443754         NA         NA\n",
              "[19]         NA         NA"
            ],
            "text/latex": "\\begin{enumerate*}\n\\item <NA>\n\\item <NA>\n\\item -1.14371955293667\n\\item <NA>\n\\item 0.383748714213111\n\\item <NA>\n\\item -2.28098114625868\n\\item -0.152706995410987\n\\item 0.164403791814389\n\\item <NA>\n\\item 2.25331512659515\n\\item <NA>\n\\item -0.314252929982843\n\\item 0.176906502283513\n\\item 0.723448955347201\n\\item 0.244375411813164\n\\item <NA>\n\\item <NA>\n\\item <NA>\n\\item <NA>\n\\end{enumerate*}\n",
            "text/markdown": "1. &lt;NA&gt;\n2. &lt;NA&gt;\n3. -1.14371955293667\n4. &lt;NA&gt;\n5. 0.383748714213111\n6. &lt;NA&gt;\n7. -2.28098114625868\n8. -0.152706995410987\n9. 0.164403791814389\n10. &lt;NA&gt;\n11. 2.25331512659515\n12. &lt;NA&gt;\n13. -0.314252929982843\n14. 0.176906502283513\n15. 0.723448955347201\n16. 0.244375411813164\n17. &lt;NA&gt;\n18. &lt;NA&gt;\n19. &lt;NA&gt;\n20. &lt;NA&gt;\n\n\n",
            "text/html": [
              "<style>\n",
              ".list-inline {list-style: none; margin:0; padding: 0}\n",
              ".list-inline>li {display: inline-block}\n",
              ".list-inline>li:not(:last-child)::after {content: \"\\00b7\"; padding: 0 .5ex}\n",
              "</style>\n",
              "<ol class=list-inline><li>&lt;NA&gt;</li><li>&lt;NA&gt;</li><li>-1.14371955293667</li><li>&lt;NA&gt;</li><li>0.383748714213111</li><li>&lt;NA&gt;</li><li>-2.28098114625868</li><li>-0.152706995410987</li><li>0.164403791814389</li><li>&lt;NA&gt;</li><li>2.25331512659515</li><li>&lt;NA&gt;</li><li>-0.314252929982843</li><li>0.176906502283513</li><li>0.723448955347201</li><li>0.244375411813164</li><li>&lt;NA&gt;</li><li>&lt;NA&gt;</li><li>&lt;NA&gt;</li><li>&lt;NA&gt;</li></ol>\n"
            ]
          },
          "metadata": {
            "tags": []
          }
        }
      ]
    },
    {
      "cell_type": "markdown",
      "metadata": {
        "id": "nKy245Q69joQ"
      },
      "source": [
        "4. Subset 10th to 15th element from x to generate sample y"
      ]
    },
    {
      "cell_type": "code",
      "metadata": {
        "colab": {
          "base_uri": "https://localhost:8080/",
          "height": 35
        },
        "id": "u9qnHj0f9YTN",
        "outputId": "d2ed5b0f-3260-4af9-a32b-0f8993aca427"
      },
      "source": [
        "y <- x[10:15]\r\n",
        "y"
      ],
      "execution_count": 15,
      "outputs": [
        {
          "output_type": "display_data",
          "data": {
            "text/plain": [
              "[1]         NA  2.2533151         NA -0.3142529  0.1769065  0.7234490"
            ],
            "text/latex": "\\begin{enumerate*}\n\\item <NA>\n\\item 2.25331512659515\n\\item <NA>\n\\item -0.314252929982843\n\\item 0.176906502283513\n\\item 0.723448955347201\n\\end{enumerate*}\n",
            "text/markdown": "1. &lt;NA&gt;\n2. 2.25331512659515\n3. &lt;NA&gt;\n4. -0.314252929982843\n5. 0.176906502283513\n6. 0.723448955347201\n\n\n",
            "text/html": [
              "<style>\n",
              ".list-inline {list-style: none; margin:0; padding: 0}\n",
              ".list-inline>li {display: inline-block}\n",
              ".list-inline>li:not(:last-child)::after {content: \"\\00b7\"; padding: 0 .5ex}\n",
              "</style>\n",
              "<ol class=list-inline><li>&lt;NA&gt;</li><li>2.25331512659515</li><li>&lt;NA&gt;</li><li>-0.314252929982843</li><li>0.176906502283513</li><li>0.723448955347201</li></ol>\n"
            ]
          },
          "metadata": {
            "tags": []
          }
        }
      ]
    },
    {
      "cell_type": "markdown",
      "metadata": {
        "id": "j83gQFa59qhu"
      },
      "source": [
        "5. Count NAs in vector x and y"
      ]
    },
    {
      "cell_type": "code",
      "metadata": {
        "colab": {
          "base_uri": "https://localhost:8080/",
          "height": 52
        },
        "id": "QSCJfK33-F10",
        "outputId": "a22e5653-d7ed-424a-8eeb-ca2821631fa0"
      },
      "source": [
        "sum(is.na(x))\r\n",
        "sum(is.na(y))\r\n"
      ],
      "execution_count": 16,
      "outputs": [
        {
          "output_type": "display_data",
          "data": {
            "text/plain": [
              "[1] 10"
            ],
            "text/latex": "10",
            "text/markdown": "10",
            "text/html": [
              "10"
            ]
          },
          "metadata": {
            "tags": []
          }
        },
        {
          "output_type": "display_data",
          "data": {
            "text/plain": [
              "[1] 2"
            ],
            "text/latex": "2",
            "text/markdown": "2",
            "text/html": [
              "2"
            ]
          },
          "metadata": {
            "tags": []
          }
        }
      ]
    }
  ]
}